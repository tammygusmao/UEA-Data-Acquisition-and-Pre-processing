{
  "nbformat": 4,
  "nbformat_minor": 0,
  "metadata": {
    "colab": {
      "name": "aula1.ipynb",
      "provenance": [],
      "collapsed_sections": []
    },
    "kernelspec": {
      "name": "python3",
      "display_name": "Python 3"
    }
  },
  "cells": [
    {
      "cell_type": "markdown",
      "metadata": {
        "id": "NaKmcQDDT7lx"
      },
      "source": [
        "###Instalação do Postgres"
      ]
    },
    {
      "cell_type": "code",
      "metadata": {
        "id": "XGKKugIGK672"
      },
      "source": [
        "# Install postgresql server\n",
        "!sudo apt-get -y -qq update\n",
        "!sudo apt-get -y -qq install postgresql\n",
        "!sudo service postgresql start\n",
        "\n",
        "# Setup a password `postgres` for username `postgres`\n",
        "!sudo -u postgres psql -U postgres -c \"ALTER USER postgres PASSWORD 'postgres';\"\n",
        "!sudo -u postgres psql -c \"CREATE USER root WITH SUPERUSER\"\n",
        "\n",
        "# Setup a database with name `tfio_demo` to be used\n",
        "!sudo -u postgres psql -U postgres -c 'DROP DATABASE IF EXISTS enterprise;'\n",
        "!sudo -u postgres psql -U postgres -c 'CREATE DATABASE enterprise;'"
      ],
      "execution_count": null,
      "outputs": []
    },
    {
      "cell_type": "code",
      "metadata": {
        "id": "V43ZvC2OUHZS"
      },
      "source": [
        "%env TFIO_DEMO_DATABASE_NAME=enterprise\n",
        "%env TFIO_DEMO_DATABASE_HOST=localhost\n",
        "%env TFIO_DEMO_DATABASE_PORT=5432\n",
        "%env TFIO_DEMO_DATABASE_USER=postgres\n",
        "%env TFIO_DEMO_DATABASE_PASS=postgres"
      ],
      "execution_count": null,
      "outputs": []
    },
    {
      "cell_type": "code",
      "metadata": {
        "id": "a6PJdukMUPEj"
      },
      "source": [
        "from google.colab import drive\n",
        "drive.mount('/content/drive')"
      ],
      "execution_count": null,
      "outputs": []
    },
    {
      "cell_type": "code",
      "metadata": {
        "id": "YopZ1cmAUvBy"
      },
      "source": [
        "!PGPASSWORD=$TFIO_DEMO_DATABASE_PASS psql -q -h $TFIO_DEMO_DATABASE_HOST -p $TFIO_DEMO_DATABASE_PORT -U $TFIO_DEMO_DATABASE_USER -d $TFIO_DEMO_DATABASE_NAME -f '/content/northwind.sql'\n",
        "!psql postgres < '/content/drive/MyDrive/modulo4/northwind.sql'"
      ],
      "execution_count": null,
      "outputs": []
    },
    {
      "cell_type": "code",
      "metadata": {
        "colab": {
          "base_uri": "https://localhost:8080/",
          "height": 90
        },
        "id": "APOjhOJDVGZc",
        "outputId": "9c7edeac-6784-4a3a-cfd6-3020936d07ef"
      },
      "source": [
        "# set connection\n",
        "%load_ext sql\n",
        "%config SqlMagic.feedback=False \n",
        "%config SqlMagic.autopandas=True\n",
        "%sql postgresql+psycopg2://@/postgres"
      ],
      "execution_count": null,
      "outputs": [
        {
          "output_type": "stream",
          "text": [
            "/usr/local/lib/python3.6/dist-packages/psycopg2/__init__.py:144: UserWarning: The psycopg2 wheel package will be renamed from release 2.8; in order to keep installing from binary please use \"pip install psycopg2-binary\" instead. For details see: <http://initd.org/psycopg/docs/install.html#binary-install-from-pypi>.\n",
            "  \"\"\")\n"
          ],
          "name": "stderr"
        },
        {
          "output_type": "execute_result",
          "data": {
            "application/vnd.google.colaboratory.intrinsic+json": {
              "type": "string"
            },
            "text/plain": [
              "'Connected: @postgres'"
            ]
          },
          "metadata": {
            "tags": []
          },
          "execution_count": 5
        }
      ]
    },
    {
      "cell_type": "code",
      "metadata": {
        "id": "LQ0SE4laVNRu"
      },
      "source": [
        "#Exemplo de consulta sql\n",
        "df = %sql SELECT * FROM public.orders\n",
        "df.head()"
      ],
      "execution_count": null,
      "outputs": []
    },
    {
      "cell_type": "markdown",
      "metadata": {
        "id": "N6JYom5uXWyx"
      },
      "source": [
        "###Imports"
      ]
    },
    {
      "cell_type": "code",
      "metadata": {
        "id": "c6PfksueaJcp"
      },
      "source": [
        "#Já estão instalados:\n",
        "#!pip install psycopg2\n",
        "#!pip install sqlalchemy"
      ],
      "execution_count": null,
      "outputs": []
    },
    {
      "cell_type": "code",
      "metadata": {
        "id": "Ef9yE_GuWEx4"
      },
      "source": [
        "import pandas as pd\n",
        "import numpy as np\n",
        "\n",
        "#import sqlalchemy as db\n",
        "from sqlalchemy import create_engine\n",
        "\n",
        "#Já estão instalados:\n",
        "#!pip install psycopg2\n",
        "#import psycopg2\n"
      ],
      "execution_count": null,
      "outputs": []
    },
    {
      "cell_type": "markdown",
      "metadata": {
        "id": "g5mb6-BvV_JH"
      },
      "source": [
        "###Consultas de aula prática 1"
      ]
    },
    {
      "cell_type": "markdown",
      "metadata": {
        "id": "uaIj1ifGiH9Z"
      },
      "source": [
        "####Consulta 1"
      ]
    },
    {
      "cell_type": "markdown",
      "metadata": {
        "id": "4SyJzShEcamy"
      },
      "source": [
        "Testar as seguintes consultas:\n",
        "1. Os 10 produtos mais caros\n",
        "\n",
        "select distinct products.productname as tenmostexpensiveproducts, products.unitprice from products order by products.unitprice desc;"
      ]
    },
    {
      "cell_type": "code",
      "metadata": {
        "colab": {
          "base_uri": "https://localhost:8080/",
          "height": 433
        },
        "id": "io26ZIghZ2Jg",
        "outputId": "fc7a010d-e643-4ae0-b11f-9c30a50d0282"
      },
      "source": [
        "#Questão 1\n",
        "df_q1 = %sql SELECT DISTINCT public.products.product_name AS tenmostexpensiveproducts, public.products.unit_price FROM public.products ORDER BY public.products.unit_price DESC\n",
        "df_q1"
      ],
      "execution_count": null,
      "outputs": [
        {
          "output_type": "stream",
          "text": [
            " * postgresql+psycopg2://@/postgres\n"
          ],
          "name": "stdout"
        },
        {
          "output_type": "execute_result",
          "data": {
            "text/html": [
              "<div>\n",
              "<style scoped>\n",
              "    .dataframe tbody tr th:only-of-type {\n",
              "        vertical-align: middle;\n",
              "    }\n",
              "\n",
              "    .dataframe tbody tr th {\n",
              "        vertical-align: top;\n",
              "    }\n",
              "\n",
              "    .dataframe thead th {\n",
              "        text-align: right;\n",
              "    }\n",
              "</style>\n",
              "<table border=\"1\" class=\"dataframe\">\n",
              "  <thead>\n",
              "    <tr style=\"text-align: right;\">\n",
              "      <th></th>\n",
              "      <th>tenmostexpensiveproducts</th>\n",
              "      <th>unit_price</th>\n",
              "    </tr>\n",
              "  </thead>\n",
              "  <tbody>\n",
              "    <tr>\n",
              "      <th>0</th>\n",
              "      <td>Côte de Blaye</td>\n",
              "      <td>263.50</td>\n",
              "    </tr>\n",
              "    <tr>\n",
              "      <th>1</th>\n",
              "      <td>Thüringer Rostbratwurst</td>\n",
              "      <td>123.79</td>\n",
              "    </tr>\n",
              "    <tr>\n",
              "      <th>2</th>\n",
              "      <td>Mishi Kobe Niku</td>\n",
              "      <td>97.00</td>\n",
              "    </tr>\n",
              "    <tr>\n",
              "      <th>3</th>\n",
              "      <td>Sir Rodney's Marmalade</td>\n",
              "      <td>81.00</td>\n",
              "    </tr>\n",
              "    <tr>\n",
              "      <th>4</th>\n",
              "      <td>Carnarvon Tigers</td>\n",
              "      <td>62.50</td>\n",
              "    </tr>\n",
              "    <tr>\n",
              "      <th>...</th>\n",
              "      <td>...</td>\n",
              "      <td>...</td>\n",
              "    </tr>\n",
              "    <tr>\n",
              "      <th>72</th>\n",
              "      <td>Tourtière</td>\n",
              "      <td>7.45</td>\n",
              "    </tr>\n",
              "    <tr>\n",
              "      <th>73</th>\n",
              "      <td>Filo Mix</td>\n",
              "      <td>7.00</td>\n",
              "    </tr>\n",
              "    <tr>\n",
              "      <th>74</th>\n",
              "      <td>Konbu</td>\n",
              "      <td>6.00</td>\n",
              "    </tr>\n",
              "    <tr>\n",
              "      <th>75</th>\n",
              "      <td>Guaraná Fantástica</td>\n",
              "      <td>4.50</td>\n",
              "    </tr>\n",
              "    <tr>\n",
              "      <th>76</th>\n",
              "      <td>Geitost</td>\n",
              "      <td>2.50</td>\n",
              "    </tr>\n",
              "  </tbody>\n",
              "</table>\n",
              "<p>77 rows × 2 columns</p>\n",
              "</div>"
            ],
            "text/plain": [
              "   tenmostexpensiveproducts  unit_price\n",
              "0             Côte de Blaye      263.50\n",
              "1   Thüringer Rostbratwurst      123.79\n",
              "2           Mishi Kobe Niku       97.00\n",
              "3    Sir Rodney's Marmalade       81.00\n",
              "4          Carnarvon Tigers       62.50\n",
              "..                      ...         ...\n",
              "72                Tourtière        7.45\n",
              "73                 Filo Mix        7.00\n",
              "74                    Konbu        6.00\n",
              "75       Guaraná Fantástica        4.50\n",
              "76                  Geitost        2.50\n",
              "\n",
              "[77 rows x 2 columns]"
            ]
          },
          "metadata": {
            "tags": []
          },
          "execution_count": 21
        }
      ]
    },
    {
      "cell_type": "markdown",
      "metadata": {
        "id": "sjYiqoDoiES9"
      },
      "source": [
        "###Consulta 2"
      ]
    },
    {
      "cell_type": "markdown",
      "metadata": {
        "id": "it0-XszCif9k"
      },
      "source": [
        "select customers.customerid, customers.companyname, customers.city, customers.country\n",
        "from customers right join orders on customers.customerid = orders.customerid\n",
        "where (((orders.orderdate) between #1/1/1995# and #12/31/1995#));\n"
      ]
    },
    {
      "cell_type": "code",
      "metadata": {
        "colab": {
          "base_uri": "https://localhost:8080/"
        },
        "id": "cT_oU0zhiDUk",
        "outputId": "27a6dba2-d262-462f-cae8-e49d6581b7ae"
      },
      "source": [
        "#Pedido Trimestral\n",
        "df_q2 = %sql SELECT public.customers.customer_id, public.customers.company_name, public.customers.city, public.customers.country FROM public.customers RIGHT JOIN public.orders ON public.customers.customer_id = public.orders.customer_id WHERE (((public.orders.order_date) BETWEEN '1995-01-01' AND '1995-12-31'))\n",
        "\n",
        "if (df_q2.empty == True):\n",
        "  print(\"Consulta sem resposta\")\n",
        "else:\n",
        "  df_q2"
      ],
      "execution_count": null,
      "outputs": [
        {
          "output_type": "stream",
          "text": [
            " * postgresql+psycopg2://@/postgres\n",
            "Consulta sem resposta\n"
          ],
          "name": "stdout"
        }
      ]
    },
    {
      "cell_type": "markdown",
      "metadata": {
        "id": "UgCljGTTnl5R"
      },
      "source": [
        "####Consulta 3"
      ]
    },
    {
      "cell_type": "markdown",
      "metadata": {
        "id": "_0NclsninoFC"
      },
      "source": [
        "3. Detalhes do pedido estendido\n",
        "\n",
        "select distinctrow [order details].orderid, [order details].productid, products.productname, [order details].unitprice, [order details].quantity, [order details].discount, ccur([order details].[unitprice]*[quantity]*(1-[discount])/100)*100 as extendedprice\n",
        "from products inner join [order details] on products.productid = [order details].productid\n",
        "order by [order details].orderid;"
      ]
    },
    {
      "cell_type": "code",
      "metadata": {
        "colab": {
          "base_uri": "https://localhost:8080/",
          "height": 433
        },
        "id": "nN0bkRer5JKf",
        "outputId": "dccd2783-dd49-4794-a6ab-5c1fac2a391b"
      },
      "source": [
        "#(psycopg2.ProgrammingError) function ccur(double precision) does not exist\n",
        "#ccur() foi substituído por numpy.float128()\n",
        "\n",
        "df_q3 = %sql SELECT DISTINCT public.order_details.order_id, public.order_details.product_id, public.products.product_name, public.order_details.unit_price, public.order_details.quantity, public.order_details.discount, (ROUND(order_details.unit_price*order_details.quantity*(1-order_details.discount)/100)*100) AS extendedprice FROM public.products INNER JOIN public.order_details ON public.products.product_id = public.order_details.product_id ORDER BY public.order_details.order_id\n",
        "\n",
        "df_q3"
      ],
      "execution_count": null,
      "outputs": [
        {
          "output_type": "stream",
          "text": [
            " * postgresql+psycopg2://@/postgres\n"
          ],
          "name": "stdout"
        },
        {
          "output_type": "execute_result",
          "data": {
            "text/html": [
              "<div>\n",
              "<style scoped>\n",
              "    .dataframe tbody tr th:only-of-type {\n",
              "        vertical-align: middle;\n",
              "    }\n",
              "\n",
              "    .dataframe tbody tr th {\n",
              "        vertical-align: top;\n",
              "    }\n",
              "\n",
              "    .dataframe thead th {\n",
              "        text-align: right;\n",
              "    }\n",
              "</style>\n",
              "<table border=\"1\" class=\"dataframe\">\n",
              "  <thead>\n",
              "    <tr style=\"text-align: right;\">\n",
              "      <th></th>\n",
              "      <th>order_id</th>\n",
              "      <th>product_id</th>\n",
              "      <th>product_name</th>\n",
              "      <th>unit_price</th>\n",
              "      <th>quantity</th>\n",
              "      <th>discount</th>\n",
              "      <th>extendedprice</th>\n",
              "    </tr>\n",
              "  </thead>\n",
              "  <tbody>\n",
              "    <tr>\n",
              "      <th>0</th>\n",
              "      <td>10248</td>\n",
              "      <td>11</td>\n",
              "      <td>Queso Cabrales</td>\n",
              "      <td>14.00</td>\n",
              "      <td>12</td>\n",
              "      <td>0.00</td>\n",
              "      <td>200.0</td>\n",
              "    </tr>\n",
              "    <tr>\n",
              "      <th>1</th>\n",
              "      <td>10248</td>\n",
              "      <td>42</td>\n",
              "      <td>Singaporean Hokkien Fried Mee</td>\n",
              "      <td>9.80</td>\n",
              "      <td>10</td>\n",
              "      <td>0.00</td>\n",
              "      <td>100.0</td>\n",
              "    </tr>\n",
              "    <tr>\n",
              "      <th>2</th>\n",
              "      <td>10248</td>\n",
              "      <td>72</td>\n",
              "      <td>Mozzarella di Giovanni</td>\n",
              "      <td>34.80</td>\n",
              "      <td>5</td>\n",
              "      <td>0.00</td>\n",
              "      <td>200.0</td>\n",
              "    </tr>\n",
              "    <tr>\n",
              "      <th>3</th>\n",
              "      <td>10249</td>\n",
              "      <td>14</td>\n",
              "      <td>Tofu</td>\n",
              "      <td>18.60</td>\n",
              "      <td>9</td>\n",
              "      <td>0.00</td>\n",
              "      <td>200.0</td>\n",
              "    </tr>\n",
              "    <tr>\n",
              "      <th>4</th>\n",
              "      <td>10249</td>\n",
              "      <td>51</td>\n",
              "      <td>Manjimup Dried Apples</td>\n",
              "      <td>42.40</td>\n",
              "      <td>40</td>\n",
              "      <td>0.00</td>\n",
              "      <td>1700.0</td>\n",
              "    </tr>\n",
              "    <tr>\n",
              "      <th>...</th>\n",
              "      <td>...</td>\n",
              "      <td>...</td>\n",
              "      <td>...</td>\n",
              "      <td>...</td>\n",
              "      <td>...</td>\n",
              "      <td>...</td>\n",
              "      <td>...</td>\n",
              "    </tr>\n",
              "    <tr>\n",
              "      <th>2150</th>\n",
              "      <td>11077</td>\n",
              "      <td>64</td>\n",
              "      <td>Wimmers gute Semmelknödel</td>\n",
              "      <td>33.25</td>\n",
              "      <td>2</td>\n",
              "      <td>0.03</td>\n",
              "      <td>100.0</td>\n",
              "    </tr>\n",
              "    <tr>\n",
              "      <th>2151</th>\n",
              "      <td>11077</td>\n",
              "      <td>66</td>\n",
              "      <td>Louisiana Hot Spiced Okra</td>\n",
              "      <td>17.00</td>\n",
              "      <td>1</td>\n",
              "      <td>0.00</td>\n",
              "      <td>0.0</td>\n",
              "    </tr>\n",
              "    <tr>\n",
              "      <th>2152</th>\n",
              "      <td>11077</td>\n",
              "      <td>73</td>\n",
              "      <td>Röd Kaviar</td>\n",
              "      <td>15.00</td>\n",
              "      <td>2</td>\n",
              "      <td>0.01</td>\n",
              "      <td>0.0</td>\n",
              "    </tr>\n",
              "    <tr>\n",
              "      <th>2153</th>\n",
              "      <td>11077</td>\n",
              "      <td>75</td>\n",
              "      <td>Rhönbräu Klosterbier</td>\n",
              "      <td>7.75</td>\n",
              "      <td>4</td>\n",
              "      <td>0.00</td>\n",
              "      <td>0.0</td>\n",
              "    </tr>\n",
              "    <tr>\n",
              "      <th>2154</th>\n",
              "      <td>11077</td>\n",
              "      <td>77</td>\n",
              "      <td>Original Frankfurter grüne Soße</td>\n",
              "      <td>13.00</td>\n",
              "      <td>2</td>\n",
              "      <td>0.00</td>\n",
              "      <td>0.0</td>\n",
              "    </tr>\n",
              "  </tbody>\n",
              "</table>\n",
              "<p>2155 rows × 7 columns</p>\n",
              "</div>"
            ],
            "text/plain": [
              "      order_id  product_id  ... discount  extendedprice\n",
              "0        10248          11  ...     0.00          200.0\n",
              "1        10248          42  ...     0.00          100.0\n",
              "2        10248          72  ...     0.00          200.0\n",
              "3        10249          14  ...     0.00          200.0\n",
              "4        10249          51  ...     0.00         1700.0\n",
              "...        ...         ...  ...      ...            ...\n",
              "2150     11077          64  ...     0.03          100.0\n",
              "2151     11077          66  ...     0.00            0.0\n",
              "2152     11077          73  ...     0.01            0.0\n",
              "2153     11077          75  ...     0.00            0.0\n",
              "2154     11077          77  ...     0.00            0.0\n",
              "\n",
              "[2155 rows x 7 columns]"
            ]
          },
          "metadata": {
            "tags": []
          },
          "execution_count": 86
        }
      ]
    },
    {
      "cell_type": "code",
      "metadata": {
        "colab": {
          "base_uri": "https://localhost:8080/",
          "height": 97
        },
        "id": "ZwEYD2Yd72M3",
        "outputId": "52871ec0-38c6-4f89-dab5-8e99bd1a3d11"
      },
      "source": [
        "\n",
        "resultado = %sql SELECT ROUND(248.6759, 0)\n",
        "resultado"
      ],
      "execution_count": null,
      "outputs": [
        {
          "output_type": "stream",
          "text": [
            " * postgresql+psycopg2://@/postgres\n"
          ],
          "name": "stdout"
        },
        {
          "output_type": "execute_result",
          "data": {
            "text/html": [
              "<div>\n",
              "<style scoped>\n",
              "    .dataframe tbody tr th:only-of-type {\n",
              "        vertical-align: middle;\n",
              "    }\n",
              "\n",
              "    .dataframe tbody tr th {\n",
              "        vertical-align: top;\n",
              "    }\n",
              "\n",
              "    .dataframe thead th {\n",
              "        text-align: right;\n",
              "    }\n",
              "</style>\n",
              "<table border=\"1\" class=\"dataframe\">\n",
              "  <thead>\n",
              "    <tr style=\"text-align: right;\">\n",
              "      <th></th>\n",
              "      <th>round</th>\n",
              "    </tr>\n",
              "  </thead>\n",
              "  <tbody>\n",
              "    <tr>\n",
              "      <th>0</th>\n",
              "      <td>249</td>\n",
              "    </tr>\n",
              "  </tbody>\n",
              "</table>\n",
              "</div>"
            ],
            "text/plain": [
              "  round\n",
              "0   249"
            ]
          },
          "metadata": {
            "tags": []
          },
          "execution_count": 77
        }
      ]
    },
    {
      "cell_type": "markdown",
      "metadata": {
        "id": "FAd9Yv0vi9ne"
      },
      "source": [
        "####Consulta 4"
      ]
    },
    {
      "cell_type": "markdown",
      "metadata": {
        "id": "MB_0reMsi_3A"
      },
      "source": [
        "4. Produtos por baixo do valor médio\n",
        "\n",
        "select distinctrow products.productname, products.unitprice\n",
        "from products\n",
        "where (((products.unitprice)>(select avg([unitprice]) from products)))\n",
        "order by products.unitprice desc;"
      ]
    },
    {
      "cell_type": "code",
      "metadata": {
        "colab": {
          "base_uri": "https://localhost:8080/",
          "height": 833
        },
        "id": "hl7wdXMMjAxu",
        "outputId": "c3e6c36f-2f2f-422a-8104-5d074128b933"
      },
      "source": [
        "df_q4 = %sql SELECT DISTINCT public.products.product_name, public.products.unit_price FROM public.products WHERE (((public.products.unit_price)>(SELECT AVG(public.products.unit_price) FROM public.products))) ORDER BY public.products.unit_price DESC\n",
        "df_q4"
      ],
      "execution_count": null,
      "outputs": [
        {
          "output_type": "stream",
          "text": [
            " * postgresql+psycopg2://@/postgres\n"
          ],
          "name": "stdout"
        },
        {
          "output_type": "execute_result",
          "data": {
            "text/html": [
              "<div>\n",
              "<style scoped>\n",
              "    .dataframe tbody tr th:only-of-type {\n",
              "        vertical-align: middle;\n",
              "    }\n",
              "\n",
              "    .dataframe tbody tr th {\n",
              "        vertical-align: top;\n",
              "    }\n",
              "\n",
              "    .dataframe thead th {\n",
              "        text-align: right;\n",
              "    }\n",
              "</style>\n",
              "<table border=\"1\" class=\"dataframe\">\n",
              "  <thead>\n",
              "    <tr style=\"text-align: right;\">\n",
              "      <th></th>\n",
              "      <th>product_name</th>\n",
              "      <th>unit_price</th>\n",
              "    </tr>\n",
              "  </thead>\n",
              "  <tbody>\n",
              "    <tr>\n",
              "      <th>0</th>\n",
              "      <td>Côte de Blaye</td>\n",
              "      <td>263.50</td>\n",
              "    </tr>\n",
              "    <tr>\n",
              "      <th>1</th>\n",
              "      <td>Thüringer Rostbratwurst</td>\n",
              "      <td>123.79</td>\n",
              "    </tr>\n",
              "    <tr>\n",
              "      <th>2</th>\n",
              "      <td>Mishi Kobe Niku</td>\n",
              "      <td>97.00</td>\n",
              "    </tr>\n",
              "    <tr>\n",
              "      <th>3</th>\n",
              "      <td>Sir Rodney's Marmalade</td>\n",
              "      <td>81.00</td>\n",
              "    </tr>\n",
              "    <tr>\n",
              "      <th>4</th>\n",
              "      <td>Carnarvon Tigers</td>\n",
              "      <td>62.50</td>\n",
              "    </tr>\n",
              "    <tr>\n",
              "      <th>5</th>\n",
              "      <td>Raclette Courdavault</td>\n",
              "      <td>55.00</td>\n",
              "    </tr>\n",
              "    <tr>\n",
              "      <th>6</th>\n",
              "      <td>Manjimup Dried Apples</td>\n",
              "      <td>53.00</td>\n",
              "    </tr>\n",
              "    <tr>\n",
              "      <th>7</th>\n",
              "      <td>Tarte au sucre</td>\n",
              "      <td>49.30</td>\n",
              "    </tr>\n",
              "    <tr>\n",
              "      <th>8</th>\n",
              "      <td>Ipoh Coffee</td>\n",
              "      <td>46.00</td>\n",
              "    </tr>\n",
              "    <tr>\n",
              "      <th>9</th>\n",
              "      <td>Rössle Sauerkraut</td>\n",
              "      <td>45.60</td>\n",
              "    </tr>\n",
              "    <tr>\n",
              "      <th>10</th>\n",
              "      <td>Schoggi Schokolade</td>\n",
              "      <td>43.90</td>\n",
              "    </tr>\n",
              "    <tr>\n",
              "      <th>11</th>\n",
              "      <td>Vegie-spread</td>\n",
              "      <td>43.90</td>\n",
              "    </tr>\n",
              "    <tr>\n",
              "      <th>12</th>\n",
              "      <td>Northwoods Cranberry Sauce</td>\n",
              "      <td>40.00</td>\n",
              "    </tr>\n",
              "    <tr>\n",
              "      <th>13</th>\n",
              "      <td>Alice Mutton</td>\n",
              "      <td>39.00</td>\n",
              "    </tr>\n",
              "    <tr>\n",
              "      <th>14</th>\n",
              "      <td>Gnocchi di nonna Alice</td>\n",
              "      <td>38.00</td>\n",
              "    </tr>\n",
              "    <tr>\n",
              "      <th>15</th>\n",
              "      <td>Queso Manchego La Pastora</td>\n",
              "      <td>38.00</td>\n",
              "    </tr>\n",
              "    <tr>\n",
              "      <th>16</th>\n",
              "      <td>Gudbrandsdalsost</td>\n",
              "      <td>36.00</td>\n",
              "    </tr>\n",
              "    <tr>\n",
              "      <th>17</th>\n",
              "      <td>Mozzarella di Giovanni</td>\n",
              "      <td>34.80</td>\n",
              "    </tr>\n",
              "    <tr>\n",
              "      <th>18</th>\n",
              "      <td>Camembert Pierrot</td>\n",
              "      <td>34.00</td>\n",
              "    </tr>\n",
              "    <tr>\n",
              "      <th>19</th>\n",
              "      <td>Wimmers gute Semmelknödel</td>\n",
              "      <td>33.25</td>\n",
              "    </tr>\n",
              "    <tr>\n",
              "      <th>20</th>\n",
              "      <td>Perth Pasties</td>\n",
              "      <td>32.80</td>\n",
              "    </tr>\n",
              "    <tr>\n",
              "      <th>21</th>\n",
              "      <td>Mascarpone Fabioli</td>\n",
              "      <td>32.00</td>\n",
              "    </tr>\n",
              "    <tr>\n",
              "      <th>22</th>\n",
              "      <td>Gumbär Gummibärchen</td>\n",
              "      <td>31.23</td>\n",
              "    </tr>\n",
              "    <tr>\n",
              "      <th>23</th>\n",
              "      <td>Ikura</td>\n",
              "      <td>31.00</td>\n",
              "    </tr>\n",
              "    <tr>\n",
              "      <th>24</th>\n",
              "      <td>Uncle Bob's Organic Dried Pears</td>\n",
              "      <td>30.00</td>\n",
              "    </tr>\n",
              "  </tbody>\n",
              "</table>\n",
              "</div>"
            ],
            "text/plain": [
              "                       product_name  unit_price\n",
              "0                     Côte de Blaye      263.50\n",
              "1           Thüringer Rostbratwurst      123.79\n",
              "2                   Mishi Kobe Niku       97.00\n",
              "3            Sir Rodney's Marmalade       81.00\n",
              "4                  Carnarvon Tigers       62.50\n",
              "5              Raclette Courdavault       55.00\n",
              "6             Manjimup Dried Apples       53.00\n",
              "7                    Tarte au sucre       49.30\n",
              "8                       Ipoh Coffee       46.00\n",
              "9                 Rössle Sauerkraut       45.60\n",
              "10               Schoggi Schokolade       43.90\n",
              "11                     Vegie-spread       43.90\n",
              "12       Northwoods Cranberry Sauce       40.00\n",
              "13                     Alice Mutton       39.00\n",
              "14           Gnocchi di nonna Alice       38.00\n",
              "15        Queso Manchego La Pastora       38.00\n",
              "16                 Gudbrandsdalsost       36.00\n",
              "17           Mozzarella di Giovanni       34.80\n",
              "18                Camembert Pierrot       34.00\n",
              "19        Wimmers gute Semmelknödel       33.25\n",
              "20                    Perth Pasties       32.80\n",
              "21               Mascarpone Fabioli       32.00\n",
              "22              Gumbär Gummibärchen       31.23\n",
              "23                            Ikura       31.00\n",
              "24  Uncle Bob's Organic Dried Pears       30.00"
            ]
          },
          "metadata": {
            "tags": []
          },
          "execution_count": 81
        }
      ]
    },
    {
      "cell_type": "markdown",
      "metadata": {
        "id": "apBVVZc6j6_m"
      },
      "source": [
        "####Consulta 5"
      ]
    },
    {
      "cell_type": "markdown",
      "metadata": {
        "id": "EnPrT3pmj9xJ"
      },
      "source": [
        "5. Subtotal do pedido\n",
        "select distinctrow [order details].orderid, sum(ccur([unitprice]*[quantity]*(1-[discount])/100)*100) as subtotal\n",
        "from [order details]\n",
        "group by [order details].orderid;"
      ]
    },
    {
      "cell_type": "code",
      "metadata": {
        "colab": {
          "base_uri": "https://localhost:8080/",
          "height": 433
        },
        "id": "nWuSQKmEkBXi",
        "outputId": "938d87e7-a66b-4bd8-9a72-1799f9803db8"
      },
      "source": [
        "df_q5 = %sql SELECT DISTINCT public.order_details.order_id, SUM(ROUND(public.order_details.unit_price*public.order_details.quantity*(1-public.order_details.discount)/100)*100) AS subtotal FROM public.order_details GROUP BY PUBLIC.order_details.order_id\n",
        "df_q5"
      ],
      "execution_count": null,
      "outputs": [
        {
          "output_type": "stream",
          "text": [
            " * postgresql+psycopg2://@/postgres\n"
          ],
          "name": "stdout"
        },
        {
          "output_type": "execute_result",
          "data": {
            "text/html": [
              "<div>\n",
              "<style scoped>\n",
              "    .dataframe tbody tr th:only-of-type {\n",
              "        vertical-align: middle;\n",
              "    }\n",
              "\n",
              "    .dataframe tbody tr th {\n",
              "        vertical-align: top;\n",
              "    }\n",
              "\n",
              "    .dataframe thead th {\n",
              "        text-align: right;\n",
              "    }\n",
              "</style>\n",
              "<table border=\"1\" class=\"dataframe\">\n",
              "  <thead>\n",
              "    <tr style=\"text-align: right;\">\n",
              "      <th></th>\n",
              "      <th>order_id</th>\n",
              "      <th>subtotal</th>\n",
              "    </tr>\n",
              "  </thead>\n",
              "  <tbody>\n",
              "    <tr>\n",
              "      <th>0</th>\n",
              "      <td>10256</td>\n",
              "      <td>500.0</td>\n",
              "    </tr>\n",
              "    <tr>\n",
              "      <th>1</th>\n",
              "      <td>10294</td>\n",
              "      <td>2000.0</td>\n",
              "    </tr>\n",
              "    <tr>\n",
              "      <th>2</th>\n",
              "      <td>10344</td>\n",
              "      <td>2300.0</td>\n",
              "    </tr>\n",
              "    <tr>\n",
              "      <th>3</th>\n",
              "      <td>11075</td>\n",
              "      <td>500.0</td>\n",
              "    </tr>\n",
              "    <tr>\n",
              "      <th>4</th>\n",
              "      <td>11054</td>\n",
              "      <td>300.0</td>\n",
              "    </tr>\n",
              "    <tr>\n",
              "      <th>...</th>\n",
              "      <td>...</td>\n",
              "      <td>...</td>\n",
              "    </tr>\n",
              "    <tr>\n",
              "      <th>825</th>\n",
              "      <td>10297</td>\n",
              "      <td>1500.0</td>\n",
              "    </tr>\n",
              "    <tr>\n",
              "      <th>826</th>\n",
              "      <td>10541</td>\n",
              "      <td>1900.0</td>\n",
              "    </tr>\n",
              "    <tr>\n",
              "      <th>827</th>\n",
              "      <td>10735</td>\n",
              "      <td>500.0</td>\n",
              "    </tr>\n",
              "    <tr>\n",
              "      <th>828</th>\n",
              "      <td>10989</td>\n",
              "      <td>1300.0</td>\n",
              "    </tr>\n",
              "    <tr>\n",
              "      <th>829</th>\n",
              "      <td>10965</td>\n",
              "      <td>800.0</td>\n",
              "    </tr>\n",
              "  </tbody>\n",
              "</table>\n",
              "<p>830 rows × 2 columns</p>\n",
              "</div>"
            ],
            "text/plain": [
              "     order_id  subtotal\n",
              "0       10256     500.0\n",
              "1       10294    2000.0\n",
              "2       10344    2300.0\n",
              "3       11075     500.0\n",
              "4       11054     300.0\n",
              "..        ...       ...\n",
              "825     10297    1500.0\n",
              "826     10541    1900.0\n",
              "827     10735     500.0\n",
              "828     10989    1300.0\n",
              "829     10965     800.0\n",
              "\n",
              "[830 rows x 2 columns]"
            ]
          },
          "metadata": {
            "tags": []
          },
          "execution_count": 87
        }
      ]
    },
    {
      "cell_type": "markdown",
      "metadata": {
        "id": "Hp8KwjjNkwsV"
      },
      "source": [
        "####Consulta 6"
      ]
    },
    {
      "cell_type": "markdown",
      "metadata": {
        "id": "MpDO5KGXkzMc"
      },
      "source": [
        "Vendas por ano "
      ]
    },
    {
      "cell_type": "markdown",
      "metadata": {
        "id": "LuXquUAGk195"
      },
      "source": [
        "####Consulta 7"
      ]
    },
    {
      "cell_type": "markdown",
      "metadata": {
        "id": "bXrhQ6TLk35c"
      },
      "source": [
        " Produtos vendidos em 1995"
      ]
    },
    {
      "cell_type": "markdown",
      "metadata": {
        "id": "THWV4rPwk8FM"
      },
      "source": [
        "####Consulta 8"
      ]
    },
    {
      "cell_type": "markdown",
      "metadata": {
        "id": "fUAosu7Nk993"
      },
      "source": [
        "Vendas por Categoria"
      ]
    }
  ]
}